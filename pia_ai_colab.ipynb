{
 "cells": [
  {
   "cell_type": "code",
   "execution_count": null,
   "metadata": {},
   "outputs": [],
   "source": [
    "# 📦 Steg 1: Installera Whisper + Piper\n",
    "!pip install git+https://github.com/openai/whisper.git\n",
    "!pip install piper-tts\n",
    "!apt-get install -y espeak ffmpeg"
   ]
  },
  {
   "cell_type": "code",
   "execution_count": null,
   "metadata": {},
   "outputs": [],
   "source": [
    "# 📥 Steg 2: Ladda ner svensk röstmodell till Piper\n",
    "!mkdir -p ~/.local/share/piper/voices\n",
    "!wget -O ~/.local/share/piper/voices/sv-SE-jenny-low.onnx https://huggingface.co/rhasspy/piper-voices/resolve/main/sv/sv-SE-jenny-low.onnx"
   ]
  },
  {
   "cell_type": "code",
   "execution_count": null,
   "metadata": {},
   "outputs": [],
   "source": [
    "# 🧠 Steg 3: Ladda MythoMax\n",
    "!pip install transformers accelerate\n",
    "from transformers import AutoModelForCausalLM, AutoTokenizer\n",
    "model_name = 'TheBloke/MythoMax-L2-13B-GGUF'\n",
    "tokenizer = AutoTokenizer.from_pretrained('teknium/OpenHermes-2.5-Mistral-7B')\n",
    "model = AutoModelForCausalLM.from_pretrained('teknium/OpenHermes-2.5-Mistral-7B')"
   ]
  },
  {
   "cell_type": "code",
   "execution_count": null,
   "metadata": {},
   "outputs": [],
   "source": [
    "# 🎤 Steg 4: Lyssna på mikrofon och transkribera med Whisper\n",
    "import whisper\n",
    "import sounddevice as sd\n",
    "import numpy as np\n",
    "import scipy.io.wavfile as wav\n",
    "\n",
    "print(\"🎤 Säg något till Pia...\")\n",
    "duration = 5\n",
    "fs = 16000\n",
    "recording = sd.rec(int(duration * fs), samplerate=fs, channels=1)\n",
    "sd.wait()\n",
    "wav.write(\"temp.wav\", fs, recording)\n",
    "model_whisper = whisper.load_model(\"base\")\n",
    "result = model_whisper.transcribe(\"temp.wav\")\n",
    "input_text = result[\"text\"]"
   ]
  },
  {
   "cell_type": "code",
   "execution_count": null,
   "metadata": {},
   "outputs": [],
   "source": [
    "# 💬 Steg 5: Generera svar med modellen\n",
    "from transformers import pipeline\n",
    "pipe = pipeline(\"text-generation\", model=model, tokenizer=tokenizer)\n",
    "response = pipe(input_text, max_new_tokens=100)[0]['generated_text']\n",
    "print(\"Pia:\", response)"
   ]
  },
  {
   "cell_type": "code",
   "execution_count": null,
   "metadata": {},
   "outputs": [],
   "source": [
    "# 🔊 Steg 6: Säg svaret med röst\n",
    "import os\n",
    "os.system(f'piper --model ~/.local/share/piper/voices/sv-SE-jenny-low.onnx --text \"{response}\" --output_file out.wav')\n",
    "os.system(\"ffplay -nodisp -autoexit out.wav\")"
   ]
  }
 ],
 "metadata": {
  "kernelspec": {
   "display_name": "Python 3",
   "language": "python",
   "name": "python3"
  },
  "language_info": {
   "name": "python",
   "version": "3.10"
  }
 },
 "nbformat": 4,
 "nbformat_minor": 2
}
